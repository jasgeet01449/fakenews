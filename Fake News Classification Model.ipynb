{
 "cells": [
  {
   "cell_type": "markdown",
   "id": "c63c27f1",
   "metadata": {
    "id": "c63c27f1"
   },
   "source": [
    "# Step-1:Importing all modules"
   ]
  },
  {
   "cell_type": "code",
   "execution_count": 1,
   "id": "9c23e21c",
   "metadata": {
    "colab": {
     "base_uri": "https://localhost:8080/"
    },
    "id": "9c23e21c",
    "outputId": "aea91af3-42c3-4677-f86c-c14f67360b1b"
   },
   "outputs": [
    {
     "name": "stderr",
     "output_type": "stream",
     "text": [
      "[nltk_data] Downloading package stopwords to C:\\Users\\Rahul\n",
      "[nltk_data]     Gupta\\AppData\\Roaming\\nltk_data...\n",
      "[nltk_data]   Package stopwords is already up-to-date!\n",
      "[nltk_data] Downloading package punkt to C:\\Users\\Rahul\n",
      "[nltk_data]     Gupta\\AppData\\Roaming\\nltk_data...\n",
      "[nltk_data]   Package punkt is already up-to-date!\n"
     ]
    }
   ],
   "source": [
    "from pandas import read_csv\n",
    "import pandas as pd\n",
    "import numpy as np\n",
    "from string import punctuation\n",
    "import re\n",
    "import string\n",
    "import nltk\n",
    "nltk.download('stopwords')\n",
    "nltk.download('punkt')\n",
    "from nltk.corpus import stopwords\n",
    "from nltk.tokenize import word_tokenize\n",
    "from nltk.stem.porter import PorterStemmer\n",
    "\n",
    "import seaborn as sns\n",
    "import matplotlib.pyplot as plt\n",
    "\n",
    "from sklearn.model_selection import train_test_split\n",
    "\n",
    "from tensorflow.keras.layers import Embedding\n",
    "from tensorflow.keras.preprocessing.sequence import pad_sequences\n",
    "from tensorflow.keras.models import Sequential\n",
    "from tensorflow.keras.preprocessing.text import one_hot\n",
    "from tensorflow.keras.layers import Bidirectional\n",
    "from tensorflow.keras.layers import LSTM\n",
    "from tensorflow.keras.layers import Dense"
   ]
  },
  {
   "cell_type": "markdown",
   "id": "59820ab8",
   "metadata": {
    "id": "59820ab8"
   },
   "source": [
    "# Step-2: Loading the dataset"
   ]
  },
  {
   "cell_type": "code",
   "execution_count": 3,
   "id": "b102d891",
   "metadata": {
    "id": "b102d891"
   },
   "outputs": [],
   "source": [
    "df = read_csv(\"train.csv\")\n",
    "df = df.drop(['id', 'title', 'author'],axis = 1)"
   ]
  },
  {
   "cell_type": "markdown",
   "id": "9f1297b0",
   "metadata": {
    "id": "9f1297b0"
   },
   "source": [
    "# Step-3: Cleaning the data"
   ]
  },
  {
   "cell_type": "code",
   "execution_count": 4,
   "id": "4e2802f8",
   "metadata": {
    "colab": {
     "base_uri": "https://localhost:8080/"
    },
    "id": "4e2802f8",
    "outputId": "3e64d10c-abcf-4b61-f880-e35f2d0fc704"
   },
   "outputs": [],
   "source": [
    "# filling na with space\n",
    "df['text'] = df['text'].fillna(' ')\n",
    "# removing the urls from the test\n",
    "df['text'] = df['text'].str.replace(r'http\\S+|www\\S+|https\\S+', '', regex=True)\n",
    "# removing @ user references and # hashtags from text\n",
    "df['text'] = df['text'].str.replace(r'\\@\\w+|\\#\\w+','', regex=True)\n",
    "# removing the special characters & lowercasing the string\n",
    "df['text'] = df['text'].apply(lambda x: ''.join(i.lower() for i in x if i not in punctuation ))\n",
    "# removing the numbers\n",
    "df['text'] = df['text'].str.replace('d', '', regex=True)"
   ]
  },
  {
   "cell_type": "markdown",
   "id": "2b890903",
   "metadata": {},
   "source": [
    "# Visualization"
   ]
  },
  {
   "cell_type": "code",
   "execution_count": 5,
   "id": "0beae86d",
   "metadata": {},
   "outputs": [
    {
     "data": {
      "text/plain": [
       "<AxesSubplot:xlabel='label', ylabel='count'>"
      ]
     },
     "execution_count": 5,
     "metadata": {},
     "output_type": "execute_result"
    },
    {
     "data": {
      "image/png": "[encoded data removed]",
      "text/plain": [
       "<Figure size 432x288 with 1 Axes>"
      ]
     },
     "metadata": {
      "needs_background": "light"
     },
     "output_type": "display_data"
    }
   ],
   "source": [
    "sns.countplot(x ='label', data = df)"
   ]
  },
  {
   "cell_type": "markdown",
   "id": "664346f3",
   "metadata": {
    "id": "664346f3"
   },
   "source": [
    "# Step-4: Data processing"
   ]
  },
  {
   "cell_type": "code",
   "execution_count": 6,
   "id": "4f7b83a8",
   "metadata": {
    "colab": {
     "base_uri": "https://localhost:8080/"
    },
    "id": "4f7b83a8",
    "outputId": "a7896b7a-9d7f-4605-f63f-c7c0fa756f0b"
   },
   "outputs": [],
   "source": [
    "\n",
    "ps = PorterStemmer()\n",
    "stop_words = stopwords.words(\"english\")\n",
    "# removing stopwords in sentences & stemming each word\n",
    "sentence_list = list(map(lambda x: \"\". join(ps.stem(word) for word in x if word not in stop_words), df['text'].values))\n",
    "# encoding sentences into integer representation\n",
    "encoded_sentences = [one_hot(sentence, 5000) for sentence in sentence_list]\n",
    "# padding sequences for getting same length list \n",
    "sent_list = pad_sequences(encoded_sentences, maxlen=20, padding='pre')\n",
    "\n",
    "X = np.array(sent_list)\n",
    "y = np.array(df['label'])\n",
    "\n",
    "# splitting the data for train & test\n",
    "X_train, X_test, y_train, y_test = train_test_split(X, y, test_size = 0.3, random_state = 42)\n"
   ]
  },
  {
   "cell_type": "markdown",
   "id": "6a333737",
   "metadata": {
    "id": "6a333737"
   },
   "source": [
    "# Step-5: Model lifecycle"
   ]
  },
  {
   "cell_type": "code",
   "execution_count": 7,
   "id": "c6bfde56",
   "metadata": {
    "colab": {
     "base_uri": "https://localhost:8080/"
    },
    "id": "c6bfde56",
    "outputId": "499eea78-fa23-4db3-c87b-9a5a7ea7d144"
   },
   "outputs": [
    {
     "name": "stdout",
     "output_type": "stream",
     "text": [
      "Model: \"sequential\"\n",
      "_________________________________________________________________\n",
      " Layer (type)                Output Shape              Param #   \n",
      "=================================================================\n",
      " embedding (Embedding)       (None, 20, 40)            200000    \n",
      "                                                                 \n",
      " bidirectional (Bidirectiona  (None, 200)              112800    \n",
      " l)                                                              \n",
      "                                                                 \n",
      " dense (Dense)               (None, 1)                 201       \n",
      "                                                                 \n",
      "=================================================================\n",
      "Total params: 313,001\n",
      "Trainable params: 313,001\n",
      "Non-trainable params: 0\n",
      "_________________________________________________________________\n",
      "None\n",
      "Epoch 1/20\n",
      "228/228 [==============================] - 19s 55ms/step - loss: 0.4069 - accuracy: 0.7898 - val_loss: 0.3464 - val_accuracy: 0.8381\n",
      "Epoch 2/20\n",
      "228/228 [==============================] - 11s 47ms/step - loss: 0.2692 - accuracy: 0.8812 - val_loss: 0.3402 - val_accuracy: 0.8441\n",
      "Epoch 3/20\n",
      "228/228 [==============================] - 11s 47ms/step - loss: 0.2140 - accuracy: 0.9103 - val_loss: 0.3648 - val_accuracy: 0.8410\n",
      "Epoch 4/20\n",
      "228/228 [==============================] - 10s 45ms/step - loss: 0.1618 - accuracy: 0.9359 - val_loss: 0.4029 - val_accuracy: 0.8337\n",
      "Epoch 5/20\n",
      "228/228 [==============================] - 11s 46ms/step - loss: 0.1248 - accuracy: 0.9530 - val_loss: 0.4841 - val_accuracy: 0.8303\n",
      "Epoch 6/20\n",
      "228/228 [==============================] - 11s 48ms/step - loss: 0.0905 - accuracy: 0.9672 - val_loss: 0.7135 - val_accuracy: 0.8232\n",
      "Epoch 7/20\n",
      "228/228 [==============================] - 12s 52ms/step - loss: 0.0674 - accuracy: 0.9758 - val_loss: 0.6332 - val_accuracy: 0.8197\n",
      "Epoch 8/20\n",
      "228/228 [==============================] - 13s 57ms/step - loss: 0.0484 - accuracy: 0.9842 - val_loss: 0.8703 - val_accuracy: 0.8236\n",
      "Epoch 9/20\n",
      "228/228 [==============================] - 12s 53ms/step - loss: 0.0390 - accuracy: 0.9857 - val_loss: 0.9009 - val_accuracy: 0.8242\n",
      "Epoch 10/20\n",
      "228/228 [==============================] - 13s 55ms/step - loss: 0.0277 - accuracy: 0.9914 - val_loss: 0.9555 - val_accuracy: 0.8255\n",
      "Epoch 11/20\n",
      "228/228 [==============================] - 14s 62ms/step - loss: 0.0170 - accuracy: 0.9950 - val_loss: 1.3025 - val_accuracy: 0.8200\n",
      "Epoch 12/20\n",
      "228/228 [==============================] - 12s 52ms/step - loss: 0.0152 - accuracy: 0.9946 - val_loss: 1.3007 - val_accuracy: 0.8173\n",
      "Epoch 13/20\n",
      "228/228 [==============================] - 12s 53ms/step - loss: 0.0140 - accuracy: 0.9957 - val_loss: 1.2954 - val_accuracy: 0.8152\n",
      "Epoch 14/20\n",
      "228/228 [==============================] - 13s 55ms/step - loss: 0.0195 - accuracy: 0.9937 - val_loss: 1.2169 - val_accuracy: 0.8221\n",
      "Epoch 15/20\n",
      "228/228 [==============================] - 11s 47ms/step - loss: 0.0155 - accuracy: 0.9944 - val_loss: 1.3452 - val_accuracy: 0.8218\n",
      "Epoch 16/20\n",
      "228/228 [==============================] - 11s 47ms/step - loss: 0.0137 - accuracy: 0.9953 - val_loss: 1.3375 - val_accuracy: 0.8240\n",
      "Epoch 17/20\n",
      "228/228 [==============================] - 10s 43ms/step - loss: 0.0113 - accuracy: 0.9963 - val_loss: 1.2779 - val_accuracy: 0.8231\n",
      "Epoch 18/20\n",
      "228/228 [==============================] - 11s 49ms/step - loss: 0.0088 - accuracy: 0.9970 - val_loss: 1.3705 - val_accuracy: 0.8171\n",
      "Epoch 19/20\n",
      "228/228 [==============================] - 10s 44ms/step - loss: 0.0094 - accuracy: 0.9970 - val_loss: 1.3708 - val_accuracy: 0.8263\n",
      "Epoch 20/20\n",
      "228/228 [==============================] - 10s 43ms/step - loss: 0.0051 - accuracy: 0.9986 - val_loss: 1.7515 - val_accuracy: 0.8178\n"
     ]
    }
   ],
   "source": [
    "# model creation\n",
    "model=Sequential()\n",
    "model.add(Embedding(5000, 40, input_length=20))\n",
    "model.add(Bidirectional(LSTM(100)))\n",
    "model.add(Dense(1,activation='sigmoid'))\n",
    "\n",
    "#model compilation\n",
    "model.compile(loss='binary_crossentropy',optimizer='adam',metrics=['accuracy'])\n",
    "\n",
    "print(model.summary())\n",
    "\n",
    "model_dump = model.fit(X_train,y_train,validation_data=(X_test,y_test),epochs=20,batch_size=64)\n",
    "\n",
    "#saving model\n",
    "model.save(\"model.h5\", model_dump)"
   ]
  },
  {
   "cell_type": "markdown",
   "id": "651bdd8b",
   "metadata": {},
   "source": [
    "# Predict example"
   ]
  },
  {
   "cell_type": "code",
   "execution_count": 11,
   "id": "736d2799",
   "metadata": {},
   "outputs": [
    {
     "name": "stdout",
     "output_type": "stream",
     "text": [
      "REAL\n"
     ]
    }
   ],
   "source": [
    "sentence = \"There is a rise in the positive cases for covid\"\n",
    "\n",
    "data = []\n",
    "review = re.sub('[^a-zA-Z]', ' ', sentence)\n",
    "review = review.lower()\n",
    "review = review.split()\n",
    "review = [ps.stem(word) for word in review if not word in stopwords.words('english')]\n",
    "review = ' '.join(review)\n",
    "data.append(review)\n",
    "\n",
    "onehot_t = [one_hot(words, 5000) for words in data]\n",
    "docs = pad_sequences(onehot_t, padding = \"pre\", maxlen=20)\n",
    "\n",
    "predict_list = np.array(docs)\n",
    "\n",
    "THRESHOLD = 0.5\n",
    "\n",
    "if model.predict(predict_list)[0][0] > THRESHOLD:\n",
    "    print(\"REAL\")\n",
    "else:\n",
    "    print(\"FAKE\")"
   ]
  },
  {
   "cell_type": "code",
   "execution_count": null,
   "id": "99d2c32e",
   "metadata": {},
   "outputs": [],
   "source": []
  }
 ],
 "metadata": {
  "colab": {
   "collapsed_sections": [],
   "name": "Fake News Classification Model.ipynb",
   "provenance": []
  },
  "kernelspec": {
   "display_name": "Python 3 (ipykernel)",
   "language": "python",
   "name": "python3"
  },
  "language_info": {
   "codemirror_mode": {
    "name": "ipython",
    "version": 3
   },
   "file_extension": ".py",
   "mimetype": "text/x-python",
   "name": "python",
   "nbconvert_exporter": "python",
   "pygments_lexer": "ipython3",
   "version": "3.10.0"
  }
 },
 "nbformat": 4,
 "nbformat_minor": 5
}
